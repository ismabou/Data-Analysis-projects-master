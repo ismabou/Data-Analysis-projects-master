{
 "cells": [
  {
   "cell_type": "code",
   "execution_count": 13,
   "metadata": {
    "collapsed": true
   },
   "outputs": [],
   "source": [
    "%matplotlib inline\n",
    "import matplotlib.pyplot as plt\n",
    "\n",
    "import ALS\n",
    "import numpy as np\n",
    "import webbrowser\n",
    "import pandas as pd\n",
    "import json\n",
    "import math\n",
    "import pickle\n",
    "import seaborn as sns\n"
   ]
  },
  {
   "cell_type": "markdown",
   "metadata": {},
   "source": [
    "## Ratings based recommender system\n",
    "In order to make our work computable, we decided to work on different dataset sizes for each task :\n",
    "\n",
    "-Training of the ALS algorithm : top 1000 ranked products for each category (so a total 3000 items)\n",
    "\n",
    "-Graph visualization : top 50 ranked products for each category (a total 150 items)\n",
    "\n",
    "\n"
   ]
  },
  {
   "cell_type": "code",
   "execution_count": 2,
   "metadata": {
    "collapsed": true
   },
   "outputs": [],
   "source": [
    "R=np.load(open(\"ratings_mat.npy 2\",\"rb\"))  #The pre-processed matrix"
   ]
  },
  {
   "cell_type": "markdown",
   "metadata": {},
   "source": [
    "The pre-processing steps include filtering out users that rated less than 5 items, to reduce sparsity on the data. This has as side effect to discard some items from the dataset, that were rated exclusively by these users. The data is still sparse with only 46622 ratings in a a 5226 users X 2132 items = 11141832 possible ratings"
   ]
  },
  {
   "cell_type": "code",
   "execution_count": 81,
   "metadata": {
    "collapsed": false
   },
   "outputs": [
    {
     "data": {
      "text/plain": [
       "(5226, 2132)"
      ]
     },
     "execution_count": 81,
     "metadata": {},
     "output_type": "execute_result"
    }
   ],
   "source": [
    "np.nonzero(R)[0].shape\n",
    "R.shape\n"
   ]
  },
  {
   "cell_type": "code",
   "execution_count": 17,
   "metadata": {
    "collapsed": false,
    "scrolled": false
   },
   "outputs": [
    {
     "data": {
      "text/plain": [
       "<matplotlib.text.Text at 0x10436d4e0>"
      ]
     },
     "execution_count": 17,
     "metadata": {},
     "output_type": "execute_result"
    },
    {
     "data": {
      "image/png": "[encoded data removed]",
      "text/plain": [
       "<matplotlib.figure.Figure at 0x127526160>"
      ]
     },
     "metadata": {},
     "output_type": "display_data"
    }
   ],
   "source": [
    "list_of_ratings=[]\n",
    "for row in R:\n",
    "    for col in row:\n",
    "        if (col!=0):\n",
    "            list_of_ratings.append(col)\n",
    "sns.distplot(list_of_ratings,kde=False);\n",
    "plt.title('Distribution of available ratings')"
   ]
  },
  {
   "cell_type": "code",
   "execution_count": 3,
   "metadata": {
    "collapsed": false
   },
   "outputs": [],
   "source": [
    "tr,ts=ALS.train_and_test(R) #dividing the dataset into training and validatuon set"
   ]
  },
  {
   "cell_type": "markdown",
   "metadata": {},
   "source": [
    "Below, we are tuning lambda by running several times"
   ]
  },
  {
   "cell_type": "code",
   "execution_count": 4,
   "metadata": {
    "collapsed": false
   },
   "outputs": [],
   "source": [
    "#In the following loop , we compute several times the rmse on the test set for different values of lambda, in order to tune the \n",
    "#parameter and find the value that limits the most overfitting the training set\n",
    "results_for_lambda=[]\n",
    "for i in range(1,15):\n",
    "    lambda_=0.03*i\n",
    "    R_train=ALS.ALS_WR(tr,ts,n_f = 30,l = lambda_,nb_iter_max = 40,epsilon = 0.0001)\n",
    "    results_for_lambda.append(R_train[-1])\n",
    "results_for_lambda=np.array(results_for_lambda)"
   ]
  },
  {
   "cell_type": "markdown",
   "metadata": {},
   "source": [
    "And here, n_f"
   ]
  },
  {
   "cell_type": "code",
   "execution_count": 18,
   "metadata": {
    "collapsed": false,
    "scrolled": true
   },
   "outputs": [
    {
     "name": "stdout",
     "output_type": "stream",
     "text": [
      "done for 10\n",
      "done for 20\n",
      "done for 30\n",
      "done for 40\n",
      "done for 50\n",
      "done for 60\n",
      "done for 70\n",
      "done for 80\n",
      "done for 90\n",
      "done for 100\n"
     ]
    }
   ],
   "source": [
    "results_for_nf=[]\n",
    "for j in range(1,11):\n",
    "    nf=10*j\n",
    "    R_train=ALS.ALS_WR(tr,ts,n_f = nf,l = 0.26,nb_iter_max = 40,epsilon = 0.0001)\n",
    "    print(\"done for \"+str(nf))\n",
    "    results_for_nf.append(R_train[-1])\n",
    "results_for_nf=np.array(results_for_nf)"
   ]
  },
  {
   "cell_type": "code",
   "execution_count": 19,
   "metadata": {
    "collapsed": false
   },
   "outputs": [],
   "source": [
    "rmses_nf=[l[-1] for l in results_for_nf]"
   ]
  },
  {
   "cell_type": "code",
   "execution_count": 82,
   "metadata": {
    "collapsed": false,
    "scrolled": true
   },
   "outputs": [],
   "source": [
    "final_rmses=[l[-1] for l in results_for_lambda]"
   ]
  },
  {
   "cell_type": "code",
   "execution_count": 4,
   "metadata": {
    "collapsed": false,
    "scrolled": false
   },
   "outputs": [],
   "source": [
    "#Although we only took into account the lambda that are multiples of 0.03 in the loop, we decided to add the values 0.01 and 0.02 as well \n",
    "#as 0.26 and 0.28 who are surrounding the optimal value so far (0.27)\n",
    "errors=[1.1004329389172476,\n",
    " 1.0271158330795611,\n",
    " 0.99717593649334735,\n",
    " 0.99100829954688574,\n",
    " 0.98211304301324809,\n",
    " 0.97629770569808216,\n",
    " 0.97252265785951664,\n",
    " 0.96872108909891075,\n",
    " 0.9655983495417837,\n",
    " 0.96476276014636586,\n",
    " 0.9625758557583858,\n",
    " 0.96371965864177689,\n",
    " 0.9651699080221414,\n",
    " 0.96589378033545525]"
   ]
  },
  {
   "cell_type": "code",
   "execution_count": 5,
   "metadata": {
    "collapsed": true
   },
   "outputs": [],
   "source": [
    "lambdas=[0.01,0.02,0.03,0.06,0.09,0.12,0.15,0.18,0.21,0.24,0.26,0.27,0.28,0.30]"
   ]
  },
  {
   "cell_type": "code",
   "execution_count": 6,
   "metadata": {
    "collapsed": false,
    "scrolled": false
   },
   "outputs": [
    {
     "data": {
      "text/plain": [
       "<matplotlib.text.Text at 0x1268170f0>"
      ]
     },
     "execution_count": 6,
     "metadata": {},
     "output_type": "execute_result"
    },
    {
     "data": {
      "image/png": "[encoded data removed]",
      "text/plain": [
       "<matplotlib.figure.Figure at 0x11664b2e8>"
      ]
     },
     "metadata": {},
     "output_type": "display_data"
    }
   ],
   "source": [
    "plt.plot(lambdas,errors)\n",
    "plt.xlabel(\"lambda\")\n",
    "plt.ylabel(\"convergence rmse on test set\")"
   ]
  },
  {
   "cell_type": "code",
   "execution_count": 20,
   "metadata": {
    "collapsed": false,
    "scrolled": true
   },
   "outputs": [
    {
     "data": {
      "text/plain": [
       "<matplotlib.text.Text at 0x11bc972b0>"
      ]
     },
     "execution_count": 20,
     "metadata": {},
     "output_type": "execute_result"
    },
    {
     "data": {
      "image/png": "[encoded data removed]",
      "text/plain": [
       "<matplotlib.figure.Figure at 0x12751eef0>"
      ]
     },
     "metadata": {},
     "output_type": "display_data"
    }
   ],
   "source": [
    "nfs=[10*i for i in range(1,11)]\n",
    "plt.plot(nfs,rmses_nf)\n",
    "plt.xlabel(\"n_f\")\n",
    "plt.ylabel(\"convergence rmse on test set\")"
   ]
  },
  {
   "cell_type": "markdown",
   "metadata": {},
   "source": [
    "One can easily notice that lambda=0.26 is the value that limits the most overfitting. So we decided to go for this one, train the ALS  and add the computed bias term."
   ]
  },
  {
   "cell_type": "code",
   "execution_count": 63,
   "metadata": {
    "collapsed": true
   },
   "outputs": [],
   "source": [
    "R_trained=ALS.ALS_WR(tr,ts,n_f = 40,l = 0.26,nb_iter_max = 20,epsilon = 0.00001)"
   ]
  },
  {
   "cell_type": "code",
   "execution_count": 65,
   "metadata": {
    "collapsed": true
   },
   "outputs": [],
   "source": [
    "I2 = ts.copy()\n",
    "I2[I2 > 0] = 1\n",
    "I2[I2 == 0] = 0\n",
    "    \n",
    "bias = (ts - I2*R_trained[0]).sum()/(I2.sum())"
   ]
  },
  {
   "cell_type": "code",
   "execution_count": 71,
   "metadata": {
    "collapsed": false,
    "scrolled": true
   },
   "outputs": [],
   "source": [
    "rR=R_trained[0]+bias\n",
    "rR[rR > 5] = 5\n",
    "rR[rR < 1] = 1"
   ]
  },
  {
   "cell_type": "code",
   "execution_count": 72,
   "metadata": {
    "collapsed": false
   },
   "outputs": [
    {
     "data": {
      "text/plain": [
       "0.86885207721811619"
      ]
     },
     "execution_count": 72,
     "metadata": {},
     "output_type": "execute_result"
    }
   ],
   "source": [
    "from sklearn.metrics import mean_squared_error as mse\n",
    "\n",
    "I=ts.nonzero()\n",
    "ALS.rmse(ts,rR,I)\n",
    "#By adding the rating bias term and rounding the out of scale values, we obtain a testing rmse of 0.868"
   ]
  },
  {
   "cell_type": "markdown",
   "metadata": {},
   "source": [
    "Starting from the matrix R, the matrix R_pred was computed with ALS matrix factorization algorithm (see report for more details). "
   ]
  },
  {
   "cell_type": "code",
   "execution_count": 87,
   "metadata": {
    "collapsed": false
   },
   "outputs": [],
   "source": [
    "#pickle.dump(rR,open(\"R_predictions.pkl\",\"wb\"))"
   ]
  },
  {
   "cell_type": "code",
   "execution_count": 88,
   "metadata": {
    "collapsed": false,
    "scrolled": false
   },
   "outputs": [],
   "source": [
    "R_pred=pickle.load(open(\"R_predictions.pkl\",\"rb\"))#Matrix infered by the ALS algorithm, thus with no zero entries"
   ]
  },
  {
   "cell_type": "code",
   "execution_count": 140,
   "metadata": {
    "collapsed": false
   },
   "outputs": [],
   "source": [
    "ordinal2asin=pickle.load(open(\"ordinal2asin.pkl\",\"rb\"))\n",
    "def asin2url(asin):\n",
    "    return \"https://www.amazon.com/dp/\"+asin\n",
    "def make_recommendation_links(usr):\n",
    "    non_rated=np.where(R[usr]==0)[0]\n",
    "    inferences=R_pred[usr]\n",
    "    recommended_items=np.where(inferences>=4.9)[0]\n",
    "    non_rated_recommended=np.intersect1d(recommended_items,non_rated)\n",
    "    return pd.Series([asin2url(ordinal2asin[i]) for i in non_rated_recommended])\n",
    "def make_recommendation_pop(usr):\n",
    "    #The following method makes one recommendation for a given user ordinal number (from 0 to the number of users)\n",
    "    #It yields the items that are supposed to be highly rated by the user (but not rated by him) and open a browser window\n",
    "    #pointing to the amazon page of a random item from this list\n",
    "    non_rated=np.where(R[usr]==0)[0]\n",
    "    inferences=R_pred[usr]\n",
    "    recommended_items=np.where(inferences>=4.9)[0]\n",
    "    non_rated_recommended=np.intersect1d(recommended_items,non_rated)\n",
    "    items_asins=[asin2url(ordinal2asin[i]) for i in non_rated_recommended]\n",
    "    try: \n",
    "        toDisplay=np.random.randint(0,len(items_asins)-1)\n",
    "        webbrowser.open(items_asins[toDisplay])\n",
    "    except:\n",
    "        print(\"No special recommendation for this user\")\n",
    "        \n"
   ]
  },
  {
   "cell_type": "code",
   "execution_count": 141,
   "metadata": {
    "collapsed": false,
    "scrolled": true
   },
   "outputs": [],
   "source": [
    "make_recommendation_pop(2000) #the argument must be between 0 and 5225, a valid user number  this method pops a random\n",
    "#recommended item for the user, item that has a predicted score >=90 for this user"
   ]
  },
  {
   "cell_type": "code",
   "execution_count": 146,
   "metadata": {
    "collapsed": false,
    "scrolled": true
   },
   "outputs": [
    {
     "data": {
      "text/plain": [
       "0    https://www.amazon.com/dp/B000003SRS\n",
       "1    https://www.amazon.com/dp/B0001XAQUA\n",
       "2    https://www.amazon.com/dp/B002MG6OO6\n",
       "3    https://www.amazon.com/dp/B005540EE8\n",
       "4    https://www.amazon.com/dp/B00IZMKM94\n",
       "5    https://www.amazon.com/dp/0142403873\n",
       "dtype: object"
      ]
     },
     "execution_count": 146,
     "metadata": {},
     "output_type": "execute_result"
    }
   ],
   "source": [
    "make_recommendation_links(1234)"
   ]
  },
  {
   "cell_type": "markdown",
   "metadata": {},
   "source": [
    "All we have are (user,item) rating assumptions. How are we going to use them in order to establish a recommendation from an item to another one? We define it as follows : an item points to another item if, all of the users who have bought it (rated it) are also supposed by our algorithm to rate the other item with five stars (score >=4.75). Roughly speaking, this means that the item2 was recommended systematically for every buyer who rated item1."
   ]
  },
  {
   "cell_type": "code",
   "execution_count": 180,
   "metadata": {
    "collapsed": false
   },
   "outputs": [],
   "source": [
    "def customers(item):\n",
    "    return np.where(R[:,item]!=0)\n",
    "def infered_fanbase(item):\n",
    "    non_rated=np.where(R[:,item]==0)\n",
    "    return np.intersect1d(np.where(R_pred[:,item]>4.75),np.where(R[:,item]==0))\n",
    "def recommended_for(item1,item2):\n",
    "    f1=customers(item1)\n",
    "    f2=infered_fanbase(item2)\n",
    "    return ( np.intersect1d(f1,f2).shape[0]==f1[0].shape[0])\n"
   ]
  },
  {
   "cell_type": "markdown",
   "metadata": {},
   "source": [
    "Now, let us create the relationships graph between items of the 3 top-50 salesRank charts. Two nodes of this graph will be binded by an edge if its ends are recommended for each other following the signification described above."
   ]
  },
  {
   "cell_type": "code",
   "execution_count": 111,
   "metadata": {
    "collapsed": false,
    "scrolled": true
   },
   "outputs": [],
   "source": [
    "elite_index=pickle.load(open(\"elite_index\",\"rb\"))"
   ]
  },
  {
   "cell_type": "code",
   "execution_count": 113,
   "metadata": {
    "collapsed": false,
    "scrolled": true
   },
   "outputs": [],
   "source": [
    "asin2ordinal=pickle.load(open(\"asin2ordinal.pkl\",\"rb\"))"
   ]
  },
  {
   "cell_type": "code",
   "execution_count": 115,
   "metadata": {
    "collapsed": false,
    "scrolled": true
   },
   "outputs": [],
   "source": [
    "asin2cat=pickle.load(open(\"asin2cat.pkl\",\"rb\"))\n",
    "index2title=pickle.load(open(\"ind2title.pkl\",\"rb\"))"
   ]
  },
  {
   "cell_type": "code",
   "execution_count": 155,
   "metadata": {
    "collapsed": false,
    "scrolled": false
   },
   "outputs": [],
   "source": [
    "elite_ordinal_index=[]\n",
    "nodes=[]\n",
    "for ind in elite_index:\n",
    "\n",
    "    try:\n",
    "        elite_ordinal_index.append(asin2ordinal[ind])\n",
    "        nodes.append(dict({\"category\":asin2cat[ind],\"name\":index2title[ind],\"url\":\"https://www.amazon.com/dp/\"+ind}))\n",
    "    except:\n",
    "        pass\n"
   ]
  },
  {
   "cell_type": "code",
   "execution_count": 120,
   "metadata": {
    "collapsed": false
   },
   "outputs": [
    {
     "data": {
      "text/plain": [
       "122"
      ]
     },
     "execution_count": 120,
     "metadata": {},
     "output_type": "execute_result"
    }
   ],
   "source": [
    "len(elite_ordinal_index) #28 of the 150 items were filtered out in the pre-processing and thus will not be featured \n",
    "#in the visualization graph"
   ]
  },
  {
   "cell_type": "code",
   "execution_count": 181,
   "metadata": {
    "collapsed": false,
    "scrolled": false
   },
   "outputs": [],
   "source": [
    "edges=[]\n",
    "for i in range(len(elite_ordinal_index)):\n",
    "    eoi=elite_ordinal_index[i]\n",
    "    related=[]\n",
    "    for j in range(len(elite_ordinal_index)):\n",
    "        if(recommended_for(eoi,elite_ordinal_index[j])):\n",
    "            edges.append(dict({\"source\":i,\"target\":j}))\n",
    "        "
   ]
  },
  {
   "cell_type": "code",
   "execution_count": 182,
   "metadata": {
    "collapsed": false,
    "scrolled": true
   },
   "outputs": [
    {
     "data": {
      "text/plain": [
       "1122"
      ]
     },
     "execution_count": 182,
     "metadata": {},
     "output_type": "execute_result"
    }
   ],
   "source": [
    "len(edges)"
   ]
  },
  {
   "cell_type": "code",
   "execution_count": 183,
   "metadata": {
    "collapsed": false,
    "scrolled": true
   },
   "outputs": [],
   "source": [
    "json.dump(nodes,open(\"nodesRatings.json\",\"w\"),separators=(',\\n',\":\"))\n",
    "json.dump(edges,open(\"edgesRatings.json\",\"w\"),separators=(',\\n',\":\"))"
   ]
  },
  {
   "cell_type": "markdown",
   "metadata": {},
   "source": [
    "# Graph Comparison\n",
    "Now let us compare both graphs with the library networkX. The graphs were realized by linking the top 50 items of each category. The two graphs have very different structures and metrics"
   ]
  },
  {
   "cell_type": "code",
   "execution_count": 201,
   "metadata": {
    "collapsed": true
   },
   "outputs": [],
   "source": [
    "import networkx as nx\n",
    "import json"
   ]
  },
  {
   "cell_type": "code",
   "execution_count": 241,
   "metadata": {
    "collapsed": false,
    "scrolled": true
   },
   "outputs": [],
   "source": [
    "nodes_sales=json.load(open(\"nodesMulticat.json\",\"r\")) \n",
    "edges_sales=json.load(open(\"edgesMulticat.json\",\"r\"))"
   ]
  },
  {
   "cell_type": "code",
   "execution_count": 242,
   "metadata": {
    "collapsed": true
   },
   "outputs": [],
   "source": [
    "G1=nx.Graph()\n",
    "G1.add_edges_from([(k[\"source\"],k[\"target\"]) for k in edges_sales])\n",
    "G2=nx.Graph()\n",
    "G2.add_edges_from([(k[\"source\"],k[\"target\"]) for k in edges])\n"
   ]
  },
  {
   "cell_type": "markdown",
   "metadata": {},
   "source": [
    "### Nodes degrees "
   ]
  },
  {
   "cell_type": "markdown",
   "metadata": {},
   "source": [
    "First, we study the distribution of nodes degree between both graphs. Our first statement is that the average node degree is much higher in the second Graph than it is in the first (much more recommendations made by the second system). Plus, the range of values (see histograms below) is wider, making the second system have a more obvious popularity hierarchy. An important majority of items are related to less than 5 items based on sales, whereas, the dominant range in the second graph is between 10 and 20 neighbors. Plus, there are some central items in the second graph who are related to more than 50 items. This does not exist in the first, where the very maximum is a  30 neighbors degree."
   ]
  },
  {
   "cell_type": "code",
   "execution_count": 297,
   "metadata": {
    "collapsed": false,
    "scrolled": true
   },
   "outputs": [
    {
     "name": "stdout",
     "output_type": "stream",
     "text": [
      "mean degree G1: 8.0 mean degree in G2 : 20.9807692308\n"
     ]
    }
   ],
   "source": [
    "print(\"mean degree G1: \"+str(np.mean(sorted(G1.degree().values())))+\" mean degree in G2 : \"+str(np.mean(sorted(G2.degree().values()))))"
   ]
  },
  {
   "cell_type": "code",
   "execution_count": 279,
   "metadata": {
    "collapsed": false,
    "scrolled": true
   },
   "outputs": [
    {
     "data": {
      "image/png": "[encoded data removed]",
      "text/plain": [
       "<matplotlib.figure.Figure at 0x117500908>"
      ]
     },
     "metadata": {},
     "output_type": "display_data"
    }
   ],
   "source": [
    "f, (ax1, ax2) = plt.subplots(1, 2, sharey=True)\n",
    "ax1.hist(sorted(G1.degree().values()))\n",
    "ax1.set_title('Sales based degree distribution')\n",
    "ax2.hist(sorted(G2.degree().values()))\n",
    "ax2.set_title('Ratings based degree distribution')\n",
    "\n",
    "\n",
    "plt.show()"
   ]
  },
  {
   "cell_type": "markdown",
   "metadata": {},
   "source": [
    "### Transitivity"
   ]
  },
  {
   "cell_type": "markdown",
   "metadata": {},
   "source": [
    "Do our graphs correspond to a clustered structure ? This is what we are about to find out mathematically. The first value, we will compute is transitivity of the graph. It's the proportion of the triple-nodes that are actual fully connected triangles. This metric is twice more important in G1 than in G2, which indicates strong clique-containing structure. This parameter is responsible for the chunky aspect of the first graph. "
   ]
  },
  {
   "cell_type": "code",
   "execution_count": 271,
   "metadata": {
    "collapsed": false,
    "scrolled": false
   },
   "outputs": [
    {
     "data": {
      "text/plain": [
       "0.634648868253047"
      ]
     },
     "execution_count": 271,
     "metadata": {},
     "output_type": "execute_result"
    }
   ],
   "source": [
    "nx.transitivity(G1)"
   ]
  },
  {
   "cell_type": "code",
   "execution_count": 272,
   "metadata": {
    "collapsed": false
   },
   "outputs": [
    {
     "data": {
      "text/plain": [
       "0.31300856189848947"
      ]
     },
     "execution_count": 272,
     "metadata": {},
     "output_type": "execute_result"
    }
   ],
   "source": [
    "nx.transitivity(G2)"
   ]
  },
  {
   "cell_type": "markdown",
   "metadata": {},
   "source": [
    "### Giant component existence"
   ]
  },
  {
   "cell_type": "markdown",
   "metadata": {},
   "source": [
    "The proportion of the biggest component is a relevant feature of how connected a graph is. If this bigger component gathers more than 50% of the nodes of the whole graph, then it is possible to cross the whole graph after a series of edges.\n",
    "Since the value for graph 2 is 0.85, then any node within graph 2 can be reached starting from any other one (except the isolated nodes) ."
   ]
  },
  {
   "cell_type": "code",
   "execution_count": 291,
   "metadata": {
    "collapsed": true
   },
   "outputs": [],
   "source": [
    "giant1  = max(nx.connected_component_subgraphs(G1), key=len)\n",
    "giant2  = max(nx.connected_component_subgraphs(G2), key=len)"
   ]
  },
  {
   "cell_type": "code",
   "execution_count": 295,
   "metadata": {
    "collapsed": false,
    "scrolled": false
   },
   "outputs": [
    {
     "data": {
      "text/plain": [
       "0.2733333333333333"
      ]
     },
     "execution_count": 295,
     "metadata": {},
     "output_type": "execute_result"
    }
   ],
   "source": [
    "len(giant1.nodes())/len(nodes_sales)"
   ]
  },
  {
   "cell_type": "code",
   "execution_count": 296,
   "metadata": {
    "collapsed": false,
    "scrolled": false
   },
   "outputs": [
    {
     "data": {
      "text/plain": [
       "0.8524590163934426"
      ]
     },
     "execution_count": 296,
     "metadata": {},
     "output_type": "execute_result"
    }
   ],
   "source": [
    "len(giant2.nodes())/len(nodes)"
   ]
  }
 ],
 "metadata": {
  "anaconda-cloud": {},
  "kernelspec": {
   "display_name": "Python [Root]",
   "language": "python",
   "name": "Python [Root]"
  },
  "language_info": {
   "codemirror_mode": {
    "name": "ipython",
    "version": 3
   },
   "file_extension": ".py",
   "mimetype": "text/x-python",
   "name": "python",
   "nbconvert_exporter": "python",
   "pygments_lexer": "ipython3",
   "version": "3.5.2"
  }
 },
 "nbformat": 4,
 "nbformat_minor": 0
}
